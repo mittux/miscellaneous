{
 "cells": [
  {
   "cell_type": "code",
   "execution_count": 1,
   "metadata": {
    "collapsed": false
   },
   "outputs": [],
   "source": [
    "%matplotlib inline \n",
    "import re\n",
    "import json\n",
    "import pandas as pd\n",
    "import matplotlib.pyplot as plt\n",
    "from twitter_db import *"
   ]
  },
  {
   "cell_type": "code",
   "execution_count": 2,
   "metadata": {
    "collapsed": false
   },
   "outputs": [
    {
     "data": {
      "text/plain": [
       "'\\n    This scripts analyses tweets to ascertain the most popular programming language between python, javascript and ruby\\n    It then attempts to print out links related to these languages if found in the tweet\\n'"
      ]
     },
     "execution_count": 2,
     "metadata": {},
     "output_type": "execute_result"
    }
   ],
   "source": [
    "\"\"\"\n",
    "    This scripts analyses tweets to ascertain the most popular programming language between python, javascript and ruby\n",
    "    It then attempts to print out links related to these languages if found in the tweet\n",
    "\"\"\""
   ]
  },
  {
   "cell_type": "code",
   "execution_count": 3,
   "metadata": {
    "collapsed": false
   },
   "outputs": [],
   "source": [
    "db = TwitterDataBase()\n",
    "tweets_df = pd.DataFrame()"
   ]
  },
  {
   "cell_type": "code",
   "execution_count": 4,
   "metadata": {
    "collapsed": true
   },
   "outputs": [],
   "source": [
    "def word_in_text(word, text):\n",
    "    word = word.lower()\n",
    "    text = text.lower()\n",
    "    match = re.search(word, text)\n",
    "    if match:\n",
    "        return True\n",
    "    return False"
   ]
  },
  {
   "cell_type": "code",
   "execution_count": 5,
   "metadata": {
    "collapsed": false
   },
   "outputs": [],
   "source": [
    "tweets_df['tweet'] = list(map(lambda t: t['tweet'],db.getAllTweets(**{})))"
   ]
  },
  {
   "cell_type": "code",
   "execution_count": 6,
   "metadata": {
    "collapsed": false
   },
   "outputs": [],
   "source": [
    "# this is not a fool-proof - the word 'ruby' is more popular than the other 2.\n",
    "# this does not imply that 'ruby' is a more popular language\n",
    "# crossng this with relevant tweets (done later) will get better results\n",
    "tweets_df['python'] = tweets_df['tweet'].apply(lambda t: word_in_text('python', t))\n",
    "tweets_df['javascript'] = tweets_df['tweet'].apply(lambda t: word_in_text('javascript', t))\n",
    "tweets_df['ruby'] = tweets_df['tweet'].apply(lambda t: word_in_text('ruby', t))"
   ]
  },
  {
   "cell_type": "code",
   "execution_count": 7,
   "metadata": {
    "collapsed": false
   },
   "outputs": [],
   "source": [
    "python_count = tweets_df['python'].value_counts()[True] if [True] in tweets_df['python'].values else 0\n",
    "javascript_count = tweets_df['javascript'].value_counts()[True] if [True] in tweets_df['javascript'].values else 0\n",
    "ruby_count = tweets_df['ruby'].value_counts()[True] if [True] in tweets_df['ruby'].values else 0    \n"
   ]
  },
  {
   "cell_type": "code",
   "execution_count": 8,
   "metadata": {
    "collapsed": false
   },
   "outputs": [
    {
     "data": {
      "image/png": "[encoded data removed]",
      "text/plain": [
       "<matplotlib.figure.Figure at 0x7fa345cf7f28>"
      ]
     },
     "metadata": {},
     "output_type": "display_data"
    }
   ],
   "source": [
    "prg_langs = ['python', 'javascript', 'ruby']\n",
    "tweets_by_prg_lang = [python_count, javascript_count, ruby_count]\n",
    "\n",
    "x_pos = list(range(len(prg_langs)))\n",
    "width = 0.8\n",
    "fig, ax = plt.subplots()\n",
    "plt.bar(x_pos, tweets_by_prg_lang, width, alpha=1, color='g')\n",
    "\n",
    "# Setting axis labels and ticks\n",
    "ax.set_ylabel('Number of tweets', fontsize=15)\n",
    "ax.set_title('Ranking: python vs. javascript vs. ruby', fontsize=10, fontweight='bold')\n",
    "ax.set_xticks([p + 0.4 * width for p in x_pos])\n",
    "ax.set_xticklabels(prg_langs)\n",
    "plt.grid()"
   ]
  },
  {
   "cell_type": "code",
   "execution_count": 9,
   "metadata": {
    "collapsed": false
   },
   "outputs": [],
   "source": [
    "def extract_link(text):\n",
    "    regex = r'https?://[^\\s<>\"]+|www\\.[^\\s<>\"]+'\n",
    "    match = re.search(regex, text)\n",
    "    if match:\n",
    "        return match.group()\n",
    "    return ''"
   ]
  },
  {
   "cell_type": "code",
   "execution_count": 10,
   "metadata": {
    "collapsed": false
   },
   "outputs": [],
   "source": [
    "# Find tweets that mention keywords 'programming' and 'tutorial'\n",
    "# Add this as a new column called 'relevant'\n",
    "tweets_df['relevant'] = tweets_df['tweet'].apply(lambda t: word_in_text('programming', t) or word_in_text('tutorial', t))\n",
    "# Extract links and add as another column\n",
    "tweets_df['link'] = tweets_df['tweet'].apply(lambda t: extract_link(t))"
   ]
  },
  {
   "cell_type": "code",
   "execution_count": 11,
   "metadata": {
    "collapsed": false
   },
   "outputs": [],
   "source": [
    "tweets_relevant = tweets_df[tweets_df['relevant'] == True]\n",
    "tweets_relevant_with_link = tweets_relevant[tweets_relevant['link'] != '']"
   ]
  },
  {
   "cell_type": "code",
   "execution_count": 12,
   "metadata": {
    "collapsed": false
   },
   "outputs": [],
   "source": [
    "if len(tweets_relevant_with_link[tweets_relevant_with_link['python'] == True]['link']) != 0:\n",
    "    print(\"Links to Python programming:\")\n",
    "    print(tweets_relevant_with_link[tweets_relevant_with_link['python'] == True]['link'])\n",
    "\n",
    "if len(tweets_relevant_with_link[tweets_relevant_with_link['javascript'] == True]['link']) != 0:\n",
    "    print(\"Links to Javascript programming:\")\n",
    "    print(tweets_relevant_with_link[tweets_relevant_with_link['javascript'] == True]['link'])\n",
    "    \n",
    "if len(tweets_relevant_with_link[tweets_relevant_with_link['ruby'] == True]['link']) != 0:    \n",
    "    print(\"Links to Ruby programming:\")\n",
    "    print(tweets_relevant_with_link[tweets_relevant_with_link['ruby'] == True]['link'])"
   ]
  },
  {
   "cell_type": "code",
   "execution_count": null,
   "metadata": {
    "collapsed": true
   },
   "outputs": [],
   "source": []
  }
 ],
 "metadata": {
  "kernelspec": {
   "display_name": "Python 3",
   "language": "python",
   "name": "python3"
  },
  "language_info": {
   "codemirror_mode": {
    "name": "ipython",
    "version": 3
   },
   "file_extension": ".py",
   "mimetype": "text/x-python",
   "name": "python",
   "nbconvert_exporter": "python",
   "pygments_lexer": "ipython3",
   "version": "3.4.3"
  }
 },
 "nbformat": 4,
 "nbformat_minor": 0
}
