{
 "cells": [
  {
   "cell_type": "code",
   "execution_count": 26,
   "metadata": {
    "collapsed": true
   },
   "outputs": [],
   "source": [
    "import re\n",
    "import collections"
   ]
  },
  {
   "cell_type": "code",
   "execution_count": 27,
   "metadata": {
    "collapsed": false
   },
   "outputs": [
    {
     "name": "stdout",
     "output_type": "stream",
     "text": [
      "Enter the value of N: 8\n"
     ]
    }
   ],
   "source": [
    "top_N = int(input(\"Enter the value of N: \"))"
   ]
  },
  {
   "cell_type": "code",
   "execution_count": 28,
   "metadata": {
    "collapsed": false
   },
   "outputs": [],
   "source": [
    "def findwords(ln):\n",
    "    return re.compile('\\w+').findall(ln)"
   ]
  },
  {
   "cell_type": "code",
   "execution_count": 29,
   "metadata": {
    "collapsed": false
   },
   "outputs": [],
   "source": [
    "with open(\"test.txt\",mode=\"r\",encoding=\"utf-8\") as my_file:\n",
    "    c = collections.Counter()\n",
    "\n",
    "    for each in my_file:\n",
    "        for word in findwords(each):\n",
    "            c[word.lower()] +=1 "
   ]
  },
  {
   "cell_type": "code",
   "execution_count": 30,
   "metadata": {
    "collapsed": false
   },
   "outputs": [
    {
     "name": "stdout",
     "output_type": "stream",
     "text": [
      "the                  233\n",
      "to                   75\n",
      "a                    60\n",
      "and                  52\n",
      "of                   52\n",
      "his                  50\n",
      "s                    48\n",
      "in                   44\n"
     ]
    }
   ],
   "source": [
    "top_N = len(words_s) if top_N > len(words_s) else top_N\n",
    "for word, count in c.most_common(top_N):\n",
    "    print('%-20s %d' % (word, count))"
   ]
  }
 ],
 "metadata": {
  "kernelspec": {
   "display_name": "Python 3",
   "language": "python",
   "name": "python3"
  },
  "language_info": {
   "codemirror_mode": {
    "name": "ipython",
    "version": 3
   },
   "file_extension": ".py",
   "mimetype": "text/x-python",
   "name": "python",
   "nbconvert_exporter": "python",
   "pygments_lexer": "ipython3",
   "version": "3.4.3"
  }
 },
 "nbformat": 4,
 "nbformat_minor": 0
}
